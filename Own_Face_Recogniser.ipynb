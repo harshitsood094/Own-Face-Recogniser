{
 "cells": [
  {
   "cell_type": "markdown",
   "metadata": {},
   "source": [
    "# Dont run 1st cell\n"
   ]
  },
  {
   "cell_type": "code",
   "execution_count": 7,
   "metadata": {},
   "outputs": [],
   "source": [
    "a={}"
   ]
  },
  {
   "cell_type": "code",
   "execution_count": 16,
   "metadata": {},
   "outputs": [
    {
     "name": "stdout",
     "output_type": "stream",
     "text": [
      "Enter your ID and then your name\n"
     ]
    }
   ],
   "source": [
    "from PIL import Image\n",
    "import cv2\n",
    "import os\n",
    "import numpy as np\n",
    "from sklearn.svm import SVC\n",
    "import matplotlib.pyplot as plt\n",
    "print(\"Enter your ID and then your name\")"
   ]
  },
  {
   "cell_type": "code",
   "execution_count": 10,
   "metadata": {},
   "outputs": [
    {
     "name": "stdout",
     "output_type": "stream",
     "text": [
      "2\n",
      "papa\n"
     ]
    }
   ],
   "source": [
    "list=[int(input()),input()]"
   ]
  },
  {
   "cell_type": "code",
   "execution_count": 11,
   "metadata": {},
   "outputs": [],
   "source": [
    "a[list[0]]=list[1]\n",
    "\n"
   ]
  },
  {
   "cell_type": "code",
   "execution_count": 12,
   "metadata": {},
   "outputs": [
    {
     "data": {
      "text/plain": [
       "{1: 'harshit', 2: 'papa'}"
      ]
     },
     "execution_count": 12,
     "metadata": {},
     "output_type": "execute_result"
    }
   ],
   "source": [
    "a"
   ]
  },
  {
   "cell_type": "code",
   "execution_count": null,
   "metadata": {},
   "outputs": [],
   "source": [
    "# creating a dataset folder with images\n",
    "def assure_path_exists(path):\n",
    "    dir = os.path.dirname(path)\n",
    "    if not os.path.exists(dir):\n",
    "        os.makedirs(dir)\n",
    "# Start capturing video \n",
    "vid_cam = cv2.VideoCapture(0)\n",
    "# Detect object in video stream using Haarcascade Frontal Face\n",
    "face_detector = cv2.CascadeClassifier('haarcascade_frontalface_default.xml')\n",
    "# For each person, one face id\n",
    "face_id = list[0]\n",
    "# Initialize sample face image\n",
    "count = 0\n",
    "assure_path_exists(\"dataset/\")\n",
    "# Start looping\n",
    "while(True):\n",
    "    # Capture video frame\n",
    "    _, image_frame = vid_cam.read()\n",
    "    # Convert frame to grayscale\n",
    "    gray = cv2.cvtColor(image_frame, cv2.COLOR_BGR2GRAY)\n",
    "    # Detect frames of different sizes, list of faces rectangles\n",
    "    faces = face_detector.detectMultiScale(gray, 1.3, 5)\n",
    "    # Loops for each faces\n",
    "    for (x,y,w,h) in faces:\n",
    "        cv2.rectangle(image_frame, (x,y), (x+w,y+h), (255,0,0), 2)\n",
    "        count += 1\n",
    "        # Save the captured image into the datasets folder\n",
    "        cv2.imwrite(\"dataset/User.\" + str(face_id) + '.' + str(count) + \".jpg\", gray[y:y+h,x:x+w])\n",
    "        # Display the video frame, with bounded rectangle on the person's face\n",
    "        cv2.imshow('frame', image_frame)\n",
    "    # To stop taking video, press 'q' for at least 100ms\n",
    "    if cv2.waitKey(100) & 0xFF == ord('q'):\n",
    "        break\n",
    "    # If image taken reach 100, stop taking video\n",
    "    elif count>100:\n",
    "        break\n",
    "# Stop video\n",
    "vid_cam.release()\n",
    "# Close all started windows\n",
    "cv2.destroyAllWindows()\n"
   ]
  },
  {
   "cell_type": "code",
   "execution_count": null,
   "metadata": {},
   "outputs": [],
   "source": []
  },
  {
   "cell_type": "code",
   "execution_count": 13,
   "metadata": {},
   "outputs": [
    {
     "data": {
      "text/plain": [
       "202"
      ]
     },
     "execution_count": 13,
     "metadata": {},
     "output_type": "execute_result"
    }
   ],
   "source": [
    "# Creating hog array\n",
    "# Import Python Image Library (PIL)\n",
    "\n",
    "hog=cv2.HOGDescriptor()\n",
    "def assure_path_exists(path):\n",
    "    dir = os.path.dirname(path)\n",
    "    if not os.path.exists(dir):\n",
    "        os.makedirs(dir)\n",
    "def getImagesAndLabels(path):\n",
    "    # Get all file path\n",
    "    h = 320\n",
    "    w = 160\n",
    "    array=np.array([])\n",
    "    ids=[]\n",
    "    imagePaths = [os.path.join(path,f) for f in os.listdir(path)]  \n",
    "    img = Image.open(imagePaths[0]).convert('L')\n",
    "    img1 = np.array(img,'uint8')\n",
    "    img=cv2.resize(img1, (w, h), interpolation=cv2.INTER_CUBIC)\n",
    "    h1=hog.compute(img,winStride=(64,128),padding=(0,0))\t#storing HOG features as column vector\n",
    "    h_trans=h1.transpose()\t#transposing the column vector\n",
    "    array=np.vstack(h_trans)\t#appending it to the array\n",
    "    id = int(os.path.split(imagePaths[0])[-1].split(\".\")[1])\n",
    "    ids.append(id)\n",
    "    for i in range(1,len(imagePaths)):\n",
    "        img = Image.open(imagePaths[i]).convert('L')\n",
    "        img1 = np.array(img,'uint8')\n",
    "        img=cv2.resize(img1, (w, h), interpolation=cv2.INTER_CUBIC)\n",
    "        h1=hog.compute(img,winStride=(64,128),padding=(0,0))\t#storing HOG features as column vector\n",
    "        h_trans=h1.transpose()\t#transposing the column vector\n",
    "        array=np.append(array,h_trans,axis=0)\t#appending it to the array\n",
    "        id = int(os.path.split(imagePaths[i])[-1].split(\".\")[1])\n",
    "        ids.append(id)\t#appending it to the array\n",
    "    return array,ids\n",
    "hogarray,ids= getImagesAndLabels('dataset')\n",
    "        \n",
    "len(ids)"
   ]
  },
  {
   "cell_type": "code",
   "execution_count": 15,
   "metadata": {},
   "outputs": [
    {
     "data": {
      "text/plain": [
       "SVC(C=10, cache_size=200, class_weight=None, coef0=0.0,\n",
       "  decision_function_shape='ovr', degree=3, gamma=0.001, kernel='rbf',\n",
       "  max_iter=-1, probability=False, random_state=None, shrinking=True,\n",
       "  tol=0.001, verbose=False)"
      ]
     },
     "execution_count": 15,
     "metadata": {},
     "output_type": "execute_result"
    }
   ],
   "source": [
    "clf=SVC(gamma=0.001,C=10)\n",
    "clf.fit(hogarray,ids)"
   ]
  },
  {
   "cell_type": "code",
   "execution_count": 17,
   "metadata": {},
   "outputs": [
    {
     "name": "stdout",
     "output_type": "stream",
     "text": [
      "True\n"
     ]
    }
   ],
   "source": [
    "# Load prebuilt model for Frontal Face\n",
    "cascadePath = \"haarcascade_frontalface_default.xml\"\n",
    "# Create classifier from prebuilt model\n",
    "faceCascade = cv2.CascadeClassifier(cascadePath);\n",
    "# Set the font style\n",
    "font = cv2.FONT_HERSHEY_SIMPLEX\n",
    "#Initialize and start the video frame capture\n",
    "scam = cv2.VideoCapture(0)\n",
    "# Loop\n",
    "print(scam.isOpened())\n",
    "h1 = 320\n",
    "w1 = 160\n",
    "while (True):\n",
    "    # Read the video frame\n",
    "    ret, im =scam.read()\n",
    "    gray = cv2.cvtColor(im,cv2.COLOR_BGR2GRAY)\n",
    "    # Get all face from the video frame\n",
    "    faces = faceCascade.detectMultiScale(gray, 1.3,5)\n",
    "    for(x,y,w,h) in faces:\n",
    "        # Create rectangle around the face\n",
    "        cv2.rectangle(im, (x-20,y-20), (x+w+20,y+h+20), (0,255,0), 2)\n",
    "        # Recognize the face belongs to which ID\n",
    "        gray=gray[y:y+h,x:x+w]\n",
    "        imgtest=cv2.resize(gray, (w1, h1), interpolation=cv2.INTER_CUBIC)\n",
    "        hTest=hog.compute(imgtest,winStride=(64,128),padding=(0,0))\n",
    "        h_transTest=hTest.transpose()\n",
    "        arrayTest=np.vstack(h_transTest)\n",
    "        Id= int(clf.predict(arrayTest))\n",
    "        if(a.get(Id)!=None):\n",
    "            Id = a.get(Id)\n",
    "        cv2.rectangle(im, (x-22,y-90), (x+w+22, y-22), (0,255,0), -1)\n",
    "        cv2.putText(im, str(Id), (x,y-40), font, 0.8, (255,255,255), 3)\n",
    "        cv2.imshow('im',im) \n",
    "    # If 'q' is pressed, close program\n",
    "    if cv2.waitKey(100) & 0xFF == ord('q'):\n",
    "        break\n",
    "# Stop the camera\n",
    "scam.release()\n",
    "# Close all windows\n",
    "cv2.destroyAllWindows()"
   ]
  }
 ],
 "metadata": {
  "kernelspec": {
   "display_name": "Python 3",
   "language": "python",
   "name": "python3"
  },
  "language_info": {
   "codemirror_mode": {
    "name": "ipython",
    "version": 3
   },
   "file_extension": ".py",
   "mimetype": "text/x-python",
   "name": "python",
   "nbconvert_exporter": "python",
   "pygments_lexer": "ipython3",
   "version": "3.5.5"
  }
 },
 "nbformat": 4,
 "nbformat_minor": 2
}
